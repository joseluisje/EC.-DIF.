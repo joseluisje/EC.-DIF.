{
  "nbformat": 4,
  "nbformat_minor": 0,
  "metadata": {
    "colab": {
      "name": "JoseLuisJimenez_28092018.ipynb",
      "version": "0.3.2",
      "provenance": []
    },
    "kernelspec": {
      "name": "python3",
      "display_name": "Python 3"
    }
  },
  "cells": [
    {
      "metadata": {
        "id": "UbE1DnzVQohH",
        "colab_type": "code",
        "colab": {}
      },
      "cell_type": "code",
      "source": [
        "#METODO DE RUNGE-KUTTA ORDEN 4\n",
        "\n",
        "def funcion(x, y):\n",
        "    return (2*(x*y))\n",
        "\n",
        "def rungeKutta(h, x0, y0):\n",
        "    x = x0 + h\n",
        "    k1 = h * funcion(x0, y0)\n",
        "    k2 = h * funcion(x0 + (h/2), y0 + (k1/2))\n",
        "    k3 = h * funcion(x0 + (h/2), y0 + (k2/2))\n",
        "    k4 = h * funcion(x0 + h, y0 + k3)\n",
        "    pendiente = (k1 + 2*k2 + 2*k3 + k4)/6\n",
        "    y = y0 + pendiente\n",
        "    return [x, y, k1, k2, k3, k4, pendiente]\n",
        "\n",
        "def main():\n",
        "    yAprox = float(raw_input(\"Aproximar 'y' a << \"))\n",
        "    h = float(raw_input(\"Tamano paso (h) << \"))\n",
        "    y0 = float(raw_input(\"y0 << \"))\n",
        "    x0 = float(raw_input(\"x0 << \"))\n",
        "    \n",
        "    iteracion = 0\n",
        "    while(x0 < yAprox):\n",
        "        resultadoIteracion = rungeKutta(h, x0, y0)\n",
        "        iteracion += 1\n",
        "        print \"==================================\"\n",
        "        print \"Iteracion %d\\n\" %(iteracion)\n",
        "        print \"K1   = %f\" %(resultadoIteracion[2])\n",
        "        print \"K2   = %f\" %(resultadoIteracion[3])\n",
        "        print \"K3   = %f\" %(resultadoIteracion[4])\n",
        "        print \"K4   = %f\" %(resultadoIteracion[5])\n",
        "        print \"X(%d) = %f\"  %(iteracion, resultadoIteracion[0])\n",
        "        print \"Y(%d) = %f\" %(iteracion, resultadoIteracion[1])\n",
        "        print \"==================================\"\n",
        "    \n",
        "        y0 = resultadoIteracion[1]\n",
        "        x0 = resultadoIteracion[0]\n",
        "\n",
        "if(__name__ == \"__main__\"):\n",
        "    main()"
      ],
      "execution_count": 0,
      "outputs": []
    },
    {
      "metadata": {
        "id": "DSqolkdhSCYQ",
        "colab_type": "code",
        "colab": {}
      },
      "cell_type": "code",
      "source": [
        "#METODO DE RUNGE-KUTTA ORDEN 2\n",
        "\n",
        "def rk2(x0, t_final, h, f):\t\t\t\n",
        "\tlista_t  = []\n",
        "\tlista_x = []\n",
        "\t\n",
        "\tx = x0\n",
        "\tt = 0.\n",
        "\t\n",
        "\twhile t < t_final+h:\t\t\n",
        "\t\tlista_t.append(t)\n",
        "\t\tlista_x.append(x)\n",
        "\t\t\n",
        "\t\tk1 = f(x,t)\n",
        "\t\tk2 = f(x + 0.5*h*k1, t+0.5*h)\n",
        "\t\n",
        "\t\tx += h * k2\n",
        "\t\tt += h\n",
        "\t\t\n",
        "\treturn lista_t, lista_x\n",
        "\t"
      ],
      "execution_count": 0,
      "outputs": []
    },
    {
      "metadata": {
        "id": "22GWfsrlRgnU",
        "colab_type": "code",
        "colab": {}
      },
      "cell_type": "code",
      "source": [
        "#METODO DE EULER\n",
        "\n",
        "import pylab as pl\n",
        "import math\n",
        "import numpy as np\n",
        "\n",
        "def euler(f,x,y,h,m):\n",
        "  for i in range(m):\n",
        "    y=y+h*f(x,y)\n",
        "    x=x+h\n",
        "    u[i,0]=x\n",
        "    u[i,1]=y\n",
        "  return u\n",
        "\n",
        "\n",
        "def f(x,y):\n",
        "  return y-x**2+x+1 #Funcion\n",
        "\n",
        "u=euler(f,0,1,0.1,20)\n",
        "pl.plot(u[:,0],u[:,1],'or')\n",
        "  \n",
        "def y(x):\n",
        "  return np.exp(x)+x**2+x #Solucion exacta\n",
        "\n",
        "x=pl.arange(0,2.1,0.1)\n",
        "pl.plot(x,y(x),'ob')\n",
        "pl.grid(True)\n",
        "pl.show()"
      ],
      "execution_count": 0,
      "outputs": []
    },
    {
      "metadata": {
        "id": "rHFkhHcwRqTJ",
        "colab_type": "code",
        "colab": {}
      },
      "cell_type": "code",
      "source": [
        "#METODO DE TAYLOR\n",
        "\n",
        "import numpy as np \n",
        "import sympy as sp \n",
        "x,y=sp.symbols('x,y') \n",
        "\n",
        "def taylorg(f,a,b,h,m,k):\n",
        "    u=np.zeros([m,2])\n",
        "    D=[ ]\n",
        "    for j in range(1,k+1):\n",
        "        D=D+[derive(f,j)]\n",
        "        \n",
        "    for i in range(m):\n",
        "        g=f.subs(x,a).subs(y,b)\n",
        "        t=b+h*g\n",
        "        for j in range(1,k+1):\n",
        "            z=D[j-1].subs(x,a).subs(y,b)\n",
        "            t=float(t+h**(j+1)/sp.factorial(j+1)*z)\n",
        "        b=t\n",
        "        a=a+h\n",
        "        u[i,0]=a\n",
        "        u[i,1]=b\n",
        "    return u"
      ],
      "execution_count": 0,
      "outputs": []
    }
  ]
}