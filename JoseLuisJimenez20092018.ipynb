{
 "cells": [
  {
   "cell_type": "markdown",
   "metadata": {},
   "source": [
    "#Clase integradores simples\n",
    "\n",
    "Se revsaran los métodos numéricos de Euler y de Runge-Kutta para resolución de ecuaciones diferenciales ordinarias.\n",
    "\n",
    "considerar un problema con valores iniciales tal que:\n",
    "\n",
    "$$\n",
    "\\begin{equation}\n",
    "\\begin{cases}\n",
    "\\dot{y}(t) & = & f(y,t), \\\\\n",
    "y(0) & = & y_{0},\n",
    "\\end{cases}\n",
    "\\end{equation}\n",
    "$$\n",
    "\n",
    "donde $y(t)\\equiv y$ es un vector n-dimensional y $y_{0}$ es el valor inicial\n",
    "\n",
    "#Sirve para varias variables\n",
    "\n",
    "#integradores simples\n",
    "\n",
    "vamos discretizar la coordenada tiempo asi $t_n=t_0 + n\\delta t$ y definimos $f_n\\equiv f(t_n)$\n",
    "\n",
    "en un tiempo $t_0$\n",
    "\n",
    "$$y_{n+1} & = & y_n +\\int_{t_n}^{t_{n+1}}dtf{y(t},t$$\n",
    "\n",
    "#1---A continuacion la regla rectangular (directa o hacia adelante) nos lleva ala solucion\n",
    "       \n",
    "$$y_{n+1} & = & y_n + f(y_n,t_n)\\delta t + \\mathscr(\\delta t^2)$$\n",
    "\n",
    "eso es el metodo explicito de euler\n",
    "\n",
    "#2---Aplicando la relga rectangular (indirecta) se obtiene:\n",
    "$$y_{n+1} & = & y_n + f(y_{n+1},t_{n+1})\\delta t + \\mathscr(\\delta t^2)$$\n",
    "\n",
    "el cual es el metodo de euler implicito\n",
    "\n",
    "#3---La regla central nos lleva a una solución del tipo:\n",
    "$$y_{n+1} & = & y_n + f(y_{n+1/2},t_{n+1/2})\\delta t + \\mathscr(\\delta t^3)$$\n",
    "\n",
    "que se puede reescribir como:\n",
    "$$y_{n+1} & = & y_{n-1} + 2f(y_n,t_n+)\\delta t + \\mathscr(\\delta t^3)$$\n",
    "\n",
    "este metodo es llamada la rutina del salto de rana, notemos la apoximacion:\n",
    "\n",
    "$$y_{n+1} \\sim y_{n-1} + 2f(y_n,t_n+)\\delta t + \\mathscr(\\delta t^3)$$\n",
    "\n",
    "#4---Empleando el metodo del trapiezo nos lleva a:\n",
    "\n",
    "(formula metodo del trapiezo)\n",
    "\n",
    "###se resuelven por el metodo de series de taylor y el metodo de runge-kutta\n",
    "\n"
   ]
  },
  {
   "cell_type": "markdown",
   "metadata": {},
   "source": [
    "$$\n",
    "\\begin{equation}\n",
    "\\begin{cases}\n",
    "\\dot{y}(t) & = & f(y,t), \\\\\n",
    "y(0) & = & y_{0},\n",
    "\\end{cases}\n",
    "\\end{equation}\n",
    "$$"
   ]
  },
  {
   "cell_type": "code",
   "execution_count": null,
   "metadata": {
    "collapsed": true
   },
   "outputs": [],
   "source": []
  }
 ],
 "metadata": {
  "kernelspec": {
   "display_name": "Python 3",
   "language": "python",
   "name": "python3"
  },
  "language_info": {
   "codemirror_mode": {
    "name": "ipython",
    "version": 3
   },
   "file_extension": ".py",
   "mimetype": "text/x-python",
   "name": "python",
   "nbconvert_exporter": "python",
   "pygments_lexer": "ipython3",
   "version": "3.6.3"
  }
 },
 "nbformat": 4,
 "nbformat_minor": 2
}
