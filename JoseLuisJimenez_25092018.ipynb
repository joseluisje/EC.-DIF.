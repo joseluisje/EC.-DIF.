{
 "cells": [
  {
   "cell_type": "markdown",
   "metadata": {},
   "source": [
    "$$ \\frac{dx}{dt}-tx=3t$$"
   ]
  },
  {
   "cell_type": "code",
   "execution_count": 7,
   "metadata": {},
   "outputs": [
    {
     "data": {
      "text/latex": [
       "$$x{\\left (t \\right )} = C_{1} e^{\\frac{t^{2}}{2}} - 3$$"
      ],
      "text/plain": [
       "            2    \n",
       "           t     \n",
       "           ──    \n",
       "           2     \n",
       "x(t) = C₁⋅ℯ   - 3"
      ]
     },
     "execution_count": 7,
     "metadata": {},
     "output_type": "execute_result"
    }
   ],
   "source": [
    "import sympy\n",
    "sympy.init_printing(use_latex='mathjax')\n",
    "\n",
    "t = sympy.Symbol('t')\n",
    "x = sympy.Function('x')\n",
    "\n",
    "f = 3*t + t*(x(t))\n",
    "\n",
    "#print(\"Resolver la EDO\")\n",
    "\n",
    "Sol=sympy.dsolve(x(t).diff(t)-f)\n",
    "Sol"
   ]
  },
  {
   "cell_type": "markdown",
   "metadata": {},
   "source": [
    "Metodo de integracion con sympy\n",
    "*C==funcion de fresnel"
   ]
  },
  {
   "cell_type": "code",
   "execution_count": 8,
   "metadata": {},
   "outputs": [
    {
     "data": {
      "image/png": "[encoded data removed]",
      "text/latex": [
       "$$- \\frac{25 \\cos{\\left (25 \\right )}}{8 \\Gamma{\\left(\\frac{9}{4} \\right)}} \\Gamma{\\left(\\frac{5}{4} \\right)} + \\frac{5 \\sqrt{2} \\sqrt{\\pi} C\\left(\\frac{5 \\sqrt{2}}{\\sqrt{\\pi}}\\right)}{16 \\Gamma{\\left(\\frac{9}{4} \\right)}} \\Gamma{\\left(\\frac{5}{4} \\right)}$$"
      ],
      "text/plain": [
       "                                      ⎛5⋅√2⎞       \n",
       "                      5⋅√2⋅√π⋅fresnelc⎜────⎟⋅Γ(5/4)\n",
       "  25⋅cos(25)⋅Γ(5/4)                   ⎝ √π ⎠       \n",
       "- ───────────────── + ─────────────────────────────\n",
       "       8⋅Γ(9/4)                 16⋅Γ(9/4)          "
      ]
     },
     "execution_count": 8,
     "metadata": {},
     "output_type": "execute_result"
    }
   ],
   "source": [
    "import sympy as sp\n",
    "from sympy import*\n",
    "sp.init_printing()\n",
    "\n",
    "x=Symbol('x')\n",
    "f=x**2*sp.sin(x**2)\n",
    "g=sp.integrate(f,(x,0,5))\n",
    "g\n",
    "#print(\"La integral da: \"sp.pprint(g))\n",
    "#sp.pprint(g)"
   ]
  },
  {
   "cell_type": "markdown",
   "metadata": {},
   "source": [
    "## Ejemplo: \n",
    "Resolver la ecuación diferencial ordinaria:\n",
    "\n",
    "$$ \\frac{dx}{dt}-tx=3t$$"
   ]
  },
  {
   "cell_type": "code",
   "execution_count": null,
   "metadata": {
    "collapsed": true
   },
   "outputs": [],
   "source": []
  },
  {
   "cell_type": "markdown",
   "metadata": {},
   "source": [
    "## Metodo de la serie de Taylor\n",
    "\n",
    "Dada la ecuación diferencial de primer orden con la condición en el inicio:\n",
    " $$y'(x)=f(x,y)$$\n",
    " $$y(x_{0})=y_{0}$$\n",
    " \n",
    "Se debe establecer un h para obtener puntos con una distancia h entre ellos \n",
    "\n",
    "Ejemplo: Obtenga dos puntos de la solución de la siguiente ecuación diferencial utilizando los tres primeros términos de la serie de Taylor con h=0.1\n",
    "\n",
    "$$y'-y-x+x^2-1=0$$\n",
    "$$con, y(0)=1$$\n",
    "\n",
    "En este caso:\n",
    "\n",
    "$y'=-1*(-y-x+x^2-1)$\n",
    "\n",
    "$h=0.1$\n",
    "\n",
    "$f'=y'+1-2x$\n",
    "\n",
    "La solucion exacta es: $y(x)=e^x+x^2+x$\n",
    "\n"
   ]
  },
  {
   "cell_type": "code",
   "execution_count": 43,
   "metadata": {},
   "outputs": [
    {
     "data": {
      "image/png": "[encoded data removed]",
      "text/plain": [
       "<matplotlib.figure.Figure at 0x129f6772b70>"
      ]
     },
     "metadata": {},
     "output_type": "display_data"
    }
   ],
   "source": [
    "import numpy as np\n",
    "import matplotlib.pyplot as plt\n",
    "import math\n",
    "\n",
    "dominio=np.arange(-1,1,0.1)\n",
    "\n",
    "def f(x):\n",
    "  e=math.exp(x)\n",
    "  f=e+x**2+x\n",
    "  return f\n",
    "\n",
    "s=[]\n",
    "for i in dominio:\n",
    "    a=f(i)\n",
    "    s.append(a)\n",
    " \n",
    "\n",
    "h1=0.1\n",
    "h2=0.2\n",
    "\n",
    "f1=f(h1)\n",
    "f2=f(h2)\n",
    "\n",
    "d=[h1,h2]\n",
    "k=[f1,f2]\n",
    "\n",
    "\n",
    "plt.plot(dominio,s, 'b', label=\"Sol exacta\")\n",
    "plt.plot(d, k, 'ro', label=\"Aproximación con Taylor\")\n",
    "plt.grid(True)\n",
    "plt.axhline(y=0, color='k')\n",
    "plt.axvline(x=0, color='k')\n",
    "plt.legend()\n",
    "plt.show()\n",
    "\n",
    "\n",
    "\n"
   ]
  },
  {
   "cell_type": "markdown",
   "metadata": {},
   "source": []
  },
  {
   "cell_type": "code",
   "execution_count": 44,
   "metadata": {},
   "outputs": [],
   "source": [
    "import numpy as np\n",
    "\n",
    "def taylor3(f,df,x,y,h,m):\n",
    "    u=np.zeros([m,2])\n",
    "    for i in range(m):\n",
    "        y=y+h*f(x,y)+h**2/2*df(x,y)\n",
    "        x=x+h\n",
    "        u[i,0]=x\n",
    "        u[i,1]=y\n",
    "    return u\n",
    "    "
   ]
  },
  {
   "cell_type": "markdown",
   "metadata": {},
   "source": [
    "## Ejemplo: \n",
    "Con la funcion taylor 3, obtenga 5 puntos de la solucion de la siguiente ecuacion diferencial. Tabule y grafique los puntos. Use h=0.1\n",
    "$$y'-y-x+x^2-1=0$$\n",
    "$$con, y(0)=1$$\n",
    "\n"
   ]
  },
  {
   "cell_type": "code",
   "execution_count": 38,
   "metadata": {},
   "outputs": [
    {
     "name": "stdout",
     "output_type": "stream",
     "text": [
      "[[ 0.1     1.215 ]\n",
      " [ 0.2     1.461 ]\n",
      " [ 0.3     1.7392]\n",
      " [ 0.4     2.0509]\n",
      " [ 0.5     2.3974]]\n"
     ]
    },
    {
     "data": {
      "image/png": "[encoded data removed]",
      "text/plain": [
       "<matplotlib.figure.Figure at 0x129f5fe0828>"
      ]
     },
     "metadata": {},
     "output_type": "display_data"
    }
   ],
   "source": [
    "import numpy as np\n",
    "import pylab as pl\n",
    "np.set_printoptions(precision=4)\n",
    "\n",
    "def taylor3(f,df,x,y,h,m):\n",
    "    u=np.zeros([m,2])\n",
    "    for i in range(m):\n",
    "        y=y+h*f(x,y)+h**2/2*df(x,y)\n",
    "        x=x+h\n",
    "        u[i,0]=x\n",
    "        u[i,1]=y\n",
    "    return u\n",
    "\n",
    "def f(x,y):\n",
    "    return y-x**2+x+1\n",
    "\n",
    "def df(x,y):\n",
    "    return y-x**2-x+2\n",
    "\n",
    "u=taylor3(f,df,0,1,0.1,5)\n",
    "print(u)\n",
    "\n",
    "x=u[:,0]\n",
    "y=u[:,1]\n",
    "\n",
    "pl.plot(x,y,'o')\n",
    "pl.grid(True)\n",
    "pl.show()"
   ]
  },
  {
   "cell_type": "markdown",
   "metadata": {},
   "source": [
    "## Solucion Numerica con el metodo odeint de la libreria scipy de python:"
   ]
  },
  {
   "cell_type": "code",
   "execution_count": 45,
   "metadata": {},
   "outputs": [
    {
     "name": "stdout",
     "output_type": "stream",
     "text": [
      "\n",
      "x = [ 0.   0.1  0.2  0.3  0.4  0.5]\n",
      "\n",
      "y = [[ 1.    ]\n",
      " [ 1.2152]\n",
      " [ 1.4614]\n",
      " [ 1.7399]\n",
      " [ 2.0518]\n",
      " [ 2.3987]]\n"
     ]
    }
   ],
   "source": [
    "from numpy import*\n",
    "from scipy.integrate import odeint\n",
    "\n",
    "def f(y,x):\n",
    "    return y-x**2+x+1\n",
    "\n",
    "x=arange(0,0.6,0.1)\n",
    "y=odeint(f,1,x)\n",
    "\n",
    "print('\\nx =',x)\n",
    "print('\\ny =',y)"
   ]
  },
  {
   "cell_type": "markdown",
   "metadata": {},
   "source": [
    "## Solucion simbolica con el metodo dsolve de la libreria simbolica sympy de python"
   ]
  },
  {
   "cell_type": "code",
   "execution_count": 46,
   "metadata": {},
   "outputs": [
    {
     "ename": "SyntaxError",
     "evalue": "invalid syntax (<ipython-input-46-056c02dc06ba>, line 6)",
     "output_type": "error",
     "traceback": [
      "\u001b[1;36m  File \u001b[1;32m\"<ipython-input-46-056c02dc06ba>\"\u001b[1;36m, line \u001b[1;32m6\u001b[0m\n\u001b[1;33m    dsolve=(diff(y(x),x)-y(x)-x+x**2-1))\u001b[0m\n\u001b[1;37m                                       ^\u001b[0m\n\u001b[1;31mSyntaxError\u001b[0m\u001b[1;31m:\u001b[0m invalid syntax\n"
     ]
    }
   ],
   "source": [
    "import sympy\n",
    "from sympy import*\n",
    "sympy.init_printing()\n",
    "\n",
    "x,y=symbols('x,y')\n",
    "dsolve=(diff(y(x),x)-y(x)-x+x**2-1))"
   ]
  },
  {
   "cell_type": "markdown",
   "metadata": {},
   "source": [
    "## Obtencion de derivadas de funciones implicitas\n",
    "\n",
    "La instrumentacion de la funcion ...\n",
    "\n",
    "Ejemplo: Obtener la primera derivada de la funcion \n",
    "\n",
    "$$y'(x)=f(x,y)=y-x^2$$"
   ]
  },
  {
   "cell_type": "code",
   "execution_count": null,
   "metadata": {
    "collapsed": true
   },
   "outputs": [],
   "source": []
  },
  {
   "cell_type": "markdown",
   "metadata": {},
   "source": []
  },
  {
   "cell_type": "code",
   "execution_count": 47,
   "metadata": {},
   "outputs": [
    {
     "ename": "TypeError",
     "evalue": "'module' object is not callable",
     "output_type": "error",
     "traceback": [
      "\u001b[1;31m---------------------------------------------------------------------------\u001b[0m",
      "\u001b[1;31mTypeError\u001b[0m                                 Traceback (most recent call last)",
      "\u001b[1;32m<ipython-input-47-2b9ab353cf78>\u001b[0m in \u001b[0;36m<module>\u001b[1;34m()\u001b[0m\n\u001b[0;32m      1\u001b[0m \u001b[1;32mimport\u001b[0m \u001b[0msympy\u001b[0m \u001b[1;32mas\u001b[0m \u001b[0msp\u001b[0m\u001b[1;33m\u001b[0m\u001b[0m\n\u001b[1;32m----> 2\u001b[1;33m \u001b[0mx\u001b[0m\u001b[1;33m,\u001b[0m\u001b[0my\u001b[0m\u001b[1;33m=\u001b[0m\u001b[0msp\u001b[0m\u001b[1;33m.\u001b[0m\u001b[0msymbol\u001b[0m\u001b[1;33m(\u001b[0m\u001b[1;34m'x,y'\u001b[0m\u001b[1;33m)\u001b[0m\u001b[1;33m\u001b[0m\u001b[0m\n\u001b[0m\u001b[0;32m      3\u001b[0m \u001b[1;33m\u001b[0m\u001b[0m\n\u001b[0;32m      4\u001b[0m \u001b[1;32mdef\u001b[0m \u001b[0mderive\u001b[0m\u001b[1;33m(\u001b[0m\u001b[0mf\u001b[0m\u001b[1;33m,\u001b[0m\u001b[0mnd\u001b[0m\u001b[1;33m)\u001b[0m\u001b[1;33m:\u001b[0m\u001b[1;33m\u001b[0m\u001b[0m\n\u001b[0;32m      5\u001b[0m     \u001b[0mt\u001b[0m\u001b[1;33m=\u001b[0m\u001b[0mf\u001b[0m\u001b[1;33m\u001b[0m\u001b[0m\n",
      "\u001b[1;31mTypeError\u001b[0m: 'module' object is not callable"
     ]
    }
   ],
   "source": [
    "import sympy as sp\n",
    "x,y=sp.symbol('x,y')\n",
    "\n",
    "def derive(f,nd):\n",
    "    t=f\n",
    "    for j in range(1,nd+1):\n",
    "        d=sp.diff(f.subs(y,y(x)),x)\n",
    "        f=d.subs(sp.Derivative(y(x),x),t).subs(y(x),y)"
   ]
  },
  {
   "cell_type": "code",
   "execution_count": null,
   "metadata": {
    "collapsed": true
   },
   "outputs": [],
   "source": [
    "import sympy\n",
    "from sympy import*\n",
    "sympy.init_printing()\n",
    "\n",
    "x,y=symbols('x,y')\n",
    "f=x**2+y**3\n",
    "d=derive(f,1)\n",
    "d"
   ]
  }
 ],
 "metadata": {
  "kernelspec": {
   "display_name": "Python 3",
   "language": "python",
   "name": "python3"
  },
  "language_info": {
   "codemirror_mode": {
    "name": "ipython",
    "version": 3
   },
   "file_extension": ".py",
   "mimetype": "text/x-python",
   "name": "python",
   "nbconvert_exporter": "python",
   "pygments_lexer": "ipython3",
   "version": "3.6.3"
  }
 },
 "nbformat": 4,
 "nbformat_minor": 2
}
