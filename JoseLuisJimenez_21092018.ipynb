{
  "nbformat": 4,
  "nbformat_minor": 0,
  "metadata": {
    "colab": {
      "name": "JoseLuisJimenez-21092018.ipynb",
      "version": "0.3.2",
      "provenance": []
    },
    "kernelspec": {
      "display_name": "Python 3",
      "language": "python",
      "name": "python3"
    }
  },
  "cells": [
    {
      "metadata": {
        "id": "ThdN6OnmPMRN",
        "colab_type": "text"
      },
      "cell_type": "markdown",
      "source": [
        "## Ecuaciones diferenciales en Python\n",
        "\n",
        "## Introducción\n",
        "\n",
        "\n",
        "Una ecuación diferencial es una ecuación que involucra una variable dependiente y sus derivadas\n",
        "con respecto a una o más variables independientes. Muchas leyes de la naturaleza pueden expresarse en forma de ecuación diferencial:\n",
        "$$F=ma$$\n",
        "$$ F=m\\frac{d^2u}{dt^2}$$\n",
        "\n",
        "### Ecuaciones diferenciales ordinarias y parciales\n",
        "\n",
        "El caso precedente, en el caso típico de una Ecuación diferencial ordinaria, ya que todas las\n",
        "derivadas involucradas son tomadas con respecto a una única y misma variable indepenfiente. Por\n",
        "otro lado, si en la ecuación tenemos derivadas de más de una variable independiente, debemos\n",
        "hallar de Ecuaciones diferenciales parciales. Por ejemplo $w=f(x,y,z,t)$ es una función de tiempo\n",
        "\n",
        "### Orden de las ecuaciones diferenciales\n",
        "\n",
        "El Orden de una ecuación diferencial va a ser igual al orden de la mayor derivada presente. Así, en \n",
        "nuestro primer ejemplo, la Ecuación diferencial de la segunda ley de la dinámica de Newton es de\n",
        "segundo orden, ya que nos encontramos ante la segunda derivada de la posición del objeto con\n",
        "respetecto al tiempo. La ecuación general de las ecuaciones diferenciales ordinarias de grado $n$ es la\n",
        "siguiente:\n",
        "$$ F(x,y,\\frac{\\partial y}{\\partial x}, ...,\\frac{\\partial^n y}{\\partial x^n}) $$\n",
        "\n",
        "o utlizando la notación prima para las derivadas:\n",
        "$$F(x,y,y',...,y^n)=0$$\n",
        "\n",
        "### Ecuaciones diferenciables separables\n",
        "\n",
        "Una ecuación separable es una ecuación diferencaial de primer orden en la que la expresión para\n",
        "$dxdy$ se puede factorizar como una función de $x$ multplicada por una función de $y$. En otras\n",
        "palabras, puede ser escrita de la forma:\n",
        "$$ dy/dx=f(x)g(y) $$\n",
        "\n",
        "y luego podemos resolver la ecuación integrando:\n",
        "$$\\int \\frac{dy}{g(y)}=f(x)dx$$\n",
        "\n",
        "### Sumas de Taylor \n",
        "\n",
        "En matemáticas, una serie de Taylor es una aproximación de funciones mediante una serie de potencias o suma de potencias enteras de polinomios como $(x-a)^n$ llamados términos de la serie, dicha suma se calcula a partir de las derivadas de la función para un determinado valor o punto $a$ suficientemente derivable sobre la función y un entorno sobre el cual converja la serie.\n",
        "\n",
        "$$f(x)= \\sum_{n=0}^{\\infty}\\frac{f^{(n)}(a)}{n!}(x-a)^n$$\n",
        "\n",
        "$$f(x)=f(a)+\\frac{f'(a)}{1!}(x-a)+\\frac{f''(a)}{2!}(x-a)^2+\\frac{f'''(a)}{3!}(x-a)^3+...$$"
      ]
    },
    {
      "metadata": {
        "id": "4Gb2YEsMPMRP",
        "colab_type": "code",
        "colab": {
          "base_uri": "https://localhost:8080/",
          "height": 34
        },
        "outputId": "51929868-ab96-4ebe-c457-47111533e2ec"
      },
      "cell_type": "code",
      "source": [
        "import numpy as np\n",
        "import sympy\n",
        "from scipy import integrate\n",
        "\n",
        "#notación matemática\n",
        "sympy.init_printing(use_latex='mathjax')\n",
        "\n",
        "x = sympy.Symbol('x')\n",
        "y = sympy.Function('y')\n",
        "\n",
        "f = 6*x**2 - 3*x**2*(y(x))\n",
        "sympy.Eq(y(x).diff(x), f)\n"
      ],
      "execution_count": 1,
      "outputs": [
        {
          "output_type": "execute_result",
          "data": {
            "text/latex": "$$\\frac{d}{d x} y{\\left (x \\right )} = - 3 x^{2} y{\\left (x \\right )} + 6 x^{2}$$",
            "text/plain": [
              "d               2           2\n",
              "──(y(x)) = - 3⋅x ⋅y(x) + 6⋅x \n",
              "dx                           "
            ]
          },
          "metadata": {
            "tags": []
          },
          "execution_count": 1
        }
      ]
    },
    {
      "metadata": {
        "id": "Ho1nu9eLPMRZ",
        "colab_type": "code",
        "colab": {},
        "outputId": "8156f0af-ce9f-4d97-c63a-ad37ad28a462"
      },
      "cell_type": "code",
      "source": [
        "#Resolvemos la ecuación\n",
        "sympy.dsolve(y(x).diff(x)-f)"
      ],
      "execution_count": 0,
      "outputs": [
        {
          "output_type": "execute_result",
          "data": {
            "text/latex": "$$y{\\left (x \\right )} = C_{1} e^{- x^{3}} + 2$$",
            "text/plain": [
              "             3    \n",
              "           -x     \n",
              "y(x) = C₁⋅ℯ    + 2"
            ]
          },
          "metadata": {
            "tags": []
          },
          "execution_count": 6
        }
      ]
    },
    {
      "metadata": {
        "id": "jlRLllT6PMRh",
        "colab_type": "code",
        "colab": {},
        "outputId": "84cab0d4-7822-411a-ead1-ff4504554ac8"
      },
      "cell_type": "code",
      "source": [
        "import sympy\n",
        "from scipy import integrate\n",
        "\n",
        "sympy.init_printing(use_latex='mathjax')\n",
        "\n",
        "x = sympy.Symbol('x')\n",
        "y = sympy.Function('y')\n",
        "\n",
        "f = (1*(y(x)**2-1))/2\n",
        "sympy.Eq(y(x).diff(x), f)\n",
        "sympy.dsolve(y(x).diff(x)-f)"
      ],
      "execution_count": 0,
      "outputs": [
        {
          "output_type": "execute_result",
          "data": {
            "text/latex": "$$y{\\left (x \\right )} = \\frac{1}{\\tanh{\\left (C_{1} - \\frac{x}{2} \\right )}}$$",
            "text/plain": [
              "            1      \n",
              "y(x) = ────────────\n",
              "           ⎛     x⎞\n",
              "       tanh⎜C₁ - ─⎟\n",
              "           ⎝     2⎠"
            ]
          },
          "metadata": {
            "tags": []
          },
          "execution_count": 16
        }
      ]
    }
  ]
}