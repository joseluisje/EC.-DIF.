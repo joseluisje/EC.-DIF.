{
  "nbformat": 4,
  "nbformat_minor": 0,
  "metadata": {
    "colab": {
      "name": "JoseLuisJimenez_27092018.ipynb",
      "version": "0.3.2",
      "provenance": []
    },
    "kernelspec": {
      "name": "python3",
      "display_name": "Python 3"
    }
  },
  "cells": [
    {
      "metadata": {
        "id": "jbMZO76byho9",
        "colab_type": "text"
      },
      "cell_type": "markdown",
      "source": [
        "# Metodo de Euler\n",
        "\n",
        "$$y_{i+1}=y_{i}+hf(x_{i},y_{i})$$\n",
        "$$x_{i+1}=x_{i}+h, i=0, 1, 2, 3...$$\n",
        "$$E=\\frac{h^{2}}{2!}y''(z)=o(h^{2}), o=orden$$\n",
        "\n",
        "\n"
      ]
    },
    {
      "metadata": {
        "id": "OASqexsp0i-z",
        "colab_type": "text"
      },
      "cell_type": "markdown",
      "source": [
        "# Euler mejorado (Heun)\n",
        "\n",
        "$$\\overline{y_{i+1}}=y_{i}+hf(x_{i},y_{i})$$\n",
        "$$y_{i+1}=y_{i}+\\frac{h}{2}(f(x_{i},y_{i})+f(x_{i+1},\\overline{y_{i+1}})$$\n",
        "$$x_{i+1}=x_{i}+h; i=0, 1, 2, 3...$$\n",
        "$$E=\\frac{h^{3}}{3!}y''(z)=o(h^{3}), o=orden$$\n"
      ]
    },
    {
      "metadata": {
        "id": "MGuwD2Tu2rta",
        "colab_type": "text"
      },
      "cell_type": "markdown",
      "source": [
        "# Runge-Kutta (segundo orden)\n",
        "\n",
        "$$k_{1}=hf(x_{i},y_{i})$$\n",
        "$$k_{2}=hf(x_{i}+h,y_{i}+k_{1})$$\n",
        "$$y_{i+1}=y_{i}+\\frac{1}{2}(k_{1}+k_{2})$$\n",
        "$$x_{i+1}=x_{i}+h; i=0, 1, 2, 3...$$\n",
        "$$E=\\frac{h^{2}}{2!}y''(z)=o(h^{2}), o=orden$$\n"
      ]
    },
    {
      "metadata": {
        "id": "FTY4OPRP3rIz",
        "colab_type": "text"
      },
      "cell_type": "markdown",
      "source": [
        "# Runge-Kutta (cuarto orden)\n",
        "\n",
        "$$k_{1}=hf(x_{i},y_{i})$$\n",
        "$$k_{2}=hf(x_{i}+\\frac{h}{2},y_{i}+\\frac{k_{1}}{2})$$\n",
        "$$k_{3}=hf(x_{i}+\\frac{h}{2},y_{i}+\\frac{k_{2}}{2})$$\n",
        "$$k_{4}=hf(x_{i}+h,y_{i}+k_{3})$$\n",
        "$$___$$\n",
        "$$y_{i+1}=y_{i}+\\frac{1}{6}(k_{1}+2k_{2}+2k_{3}+k_{4})$$\n",
        "$$x_{i+1}=x_{i}+h; i=0, 1, 2, 3...$$\n",
        "$$E=o(h^{5})$$\n"
      ]
    },
    {
      "metadata": {
        "id": "GEWVf_YY69G7",
        "colab_type": "code",
        "colab": {}
      },
      "cell_type": "code",
      "source": [
        "#Metodo de euler\n",
        "\n",
        "import numpy as np\n",
        "def euler(f,x,y,h,m):\n",
        "  for i in range(m):\n",
        "    y=y+h*f(x,y)\n",
        "    x=x+h\n",
        "    u[i,0]=x\n",
        "    u[i,1]=y\n",
        "  return u"
      ],
      "execution_count": 0,
      "outputs": []
    },
    {
      "metadata": {
        "id": "XTVcv06h8VHD",
        "colab_type": "code",
        "colab": {
          "base_uri": "https://localhost:8080/",
          "height": 350
        },
        "outputId": "3db01960-5f63-47c8-fa11-c482e42c6043"
      },
      "cell_type": "code",
      "source": [
        "import pylab as pl\n",
        "import math\n",
        "\n",
        "\n",
        "\n",
        "def f(x,y):\n",
        "  return y-x**2+x+1 #Funcion\n",
        "\n",
        "u=euler(f,0,1,0.1,20)\n",
        "pl.plot(u[:,0],u[:,1],'or')\n",
        "  \n",
        "def y(x):\n",
        "  return np.exp(x)+x**2+x #Solucion exacta\n",
        "\n",
        "x=pl.arange(0,2.1,0.1)\n",
        "pl.plot(x,y(x),'ob')\n",
        "pl.grid(True)\n",
        "pl.show()\n",
        "  \n"
      ],
      "execution_count": 10,
      "outputs": [
        {
          "output_type": "error",
          "ename": "NameError",
          "evalue": "ignored",
          "traceback": [
            "\u001b[0;31m---------------------------------------------------------------------------\u001b[0m",
            "\u001b[0;31mNameError\u001b[0m                                 Traceback (most recent call last)",
            "\u001b[0;32m<ipython-input-10-aea6fc2392a5>\u001b[0m in \u001b[0;36m<module>\u001b[0;34m()\u001b[0m\n\u001b[1;32m      7\u001b[0m   \u001b[0;32mreturn\u001b[0m \u001b[0my\u001b[0m\u001b[0;34m-\u001b[0m\u001b[0mx\u001b[0m\u001b[0;34m**\u001b[0m\u001b[0;36m2\u001b[0m\u001b[0;34m+\u001b[0m\u001b[0mx\u001b[0m\u001b[0;34m+\u001b[0m\u001b[0;36m1\u001b[0m \u001b[0;31m#Funcion\u001b[0m\u001b[0;34m\u001b[0m\u001b[0m\n\u001b[1;32m      8\u001b[0m \u001b[0;34m\u001b[0m\u001b[0m\n\u001b[0;32m----> 9\u001b[0;31m \u001b[0mu\u001b[0m\u001b[0;34m=\u001b[0m\u001b[0meuler\u001b[0m\u001b[0;34m(\u001b[0m\u001b[0mf\u001b[0m\u001b[0;34m,\u001b[0m\u001b[0;36m0\u001b[0m\u001b[0;34m,\u001b[0m\u001b[0;36m1\u001b[0m\u001b[0;34m,\u001b[0m\u001b[0;36m0.1\u001b[0m\u001b[0;34m,\u001b[0m\u001b[0;36m20\u001b[0m\u001b[0;34m)\u001b[0m\u001b[0;34m\u001b[0m\u001b[0m\n\u001b[0m\u001b[1;32m     10\u001b[0m \u001b[0mpl\u001b[0m\u001b[0;34m.\u001b[0m\u001b[0mplot\u001b[0m\u001b[0;34m(\u001b[0m\u001b[0mu\u001b[0m\u001b[0;34m[\u001b[0m\u001b[0;34m:\u001b[0m\u001b[0;34m,\u001b[0m\u001b[0;36m0\u001b[0m\u001b[0;34m]\u001b[0m\u001b[0;34m,\u001b[0m\u001b[0mu\u001b[0m\u001b[0;34m[\u001b[0m\u001b[0;34m:\u001b[0m\u001b[0;34m,\u001b[0m\u001b[0;36m1\u001b[0m\u001b[0;34m]\u001b[0m\u001b[0;34m,\u001b[0m\u001b[0;34m'or'\u001b[0m\u001b[0;34m)\u001b[0m\u001b[0;34m\u001b[0m\u001b[0m\n\u001b[1;32m     11\u001b[0m \u001b[0;34m\u001b[0m\u001b[0m\n",
            "\u001b[0;32m<ipython-input-8-0290bf9de7f7>\u001b[0m in \u001b[0;36meuler\u001b[0;34m(f, x, y, h, m)\u001b[0m\n\u001b[1;32m      6\u001b[0m     \u001b[0my\u001b[0m\u001b[0;34m=\u001b[0m\u001b[0my\u001b[0m\u001b[0;34m+\u001b[0m\u001b[0mh\u001b[0m\u001b[0;34m*\u001b[0m\u001b[0mf\u001b[0m\u001b[0;34m(\u001b[0m\u001b[0mx\u001b[0m\u001b[0;34m,\u001b[0m\u001b[0my\u001b[0m\u001b[0;34m)\u001b[0m\u001b[0;34m\u001b[0m\u001b[0m\n\u001b[1;32m      7\u001b[0m     \u001b[0mx\u001b[0m\u001b[0;34m=\u001b[0m\u001b[0mx\u001b[0m\u001b[0;34m+\u001b[0m\u001b[0mh\u001b[0m\u001b[0;34m\u001b[0m\u001b[0m\n\u001b[0;32m----> 8\u001b[0;31m     \u001b[0mu\u001b[0m\u001b[0;34m[\u001b[0m\u001b[0mi\u001b[0m\u001b[0;34m,\u001b[0m\u001b[0;36m0\u001b[0m\u001b[0;34m]\u001b[0m\u001b[0;34m=\u001b[0m\u001b[0mx\u001b[0m\u001b[0;34m\u001b[0m\u001b[0m\n\u001b[0m\u001b[1;32m      9\u001b[0m     \u001b[0mu\u001b[0m\u001b[0;34m[\u001b[0m\u001b[0mi\u001b[0m\u001b[0;34m,\u001b[0m\u001b[0;36m1\u001b[0m\u001b[0;34m]\u001b[0m\u001b[0;34m=\u001b[0m\u001b[0my\u001b[0m\u001b[0;34m\u001b[0m\u001b[0m\n\u001b[1;32m     10\u001b[0m   \u001b[0;32mreturn\u001b[0m \u001b[0mu\u001b[0m\u001b[0;34m\u001b[0m\u001b[0m\n",
            "\u001b[0;31mNameError\u001b[0m: name 'u' is not defined"
          ]
        }
      ]
    }
  ]
}